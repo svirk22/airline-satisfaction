{
 "cells": [
  {
   "cell_type": "code",
   "execution_count": 1,
   "id": "82371563",
   "metadata": {},
   "outputs": [],
   "source": [
    "import matplotlib.pyplot as plt\n",
    "import numpy as np\n",
    "import pandas as pd\n",
    "import statsmodels.api as sm\n",
    "#from numpy import genfromtxt\n",
    "#import collections\n",
    "#import seaborn as sns\n",
    "from sklearn import linear_model\n",
    "#from sklearn.linear_model import LinearRegression\n",
    "from sklearn.metrics import mean_squared_error"
   ]
  },
  {
   "cell_type": "code",
   "execution_count": 2,
   "id": "0ead870e",
   "metadata": {},
   "outputs": [],
   "source": [
    "#reading the given data set\n",
    "df = pd.read_csv('data.csv')"
   ]
  },
  {
   "cell_type": "code",
   "execution_count": 3,
   "id": "dc09d372",
   "metadata": {},
   "outputs": [],
   "source": [
    "#if possible try to do it with for loop\n",
    "#df['X(K-5)']=[0 for i in range(len(df))]\n",
    "#df['X(K-5)'][5:]=df['X'][:len(df)-5]"
   ]
  },
  {
   "cell_type": "code",
   "execution_count": 4,
   "id": "d1f1bf35",
   "metadata": {},
   "outputs": [],
   "source": [
    "#Previous four historical values\n",
    "#using pandas inbuild shift method to get the desired past historical values\n",
    "df['X(k-1)'] = df['X'].shift(1)\n",
    "df['X(k-2)'] = df['X'].shift(2)\n",
    "df['X(k-3)'] = df['X'].shift(3)\n",
    "df['X(k-4)'] = df['X'].shift(4)\n",
    "df['Y(k-1)'] = df['Y'].shift(1)\n",
    "df['Y(k-2)'] = df['Y'].shift(2)\n",
    "df['Y(k-3)'] = df['Y'].shift(3)\n",
    "df['Y(k-4)'] = df['Y'].shift(4)"
   ]
  },
  {
   "cell_type": "code",
   "execution_count": 5,
   "id": "ce70f07b",
   "metadata": {},
   "outputs": [
    {
     "data": {
      "text/html": [
       "<div>\n",
       "<style scoped>\n",
       "    .dataframe tbody tr th:only-of-type {\n",
       "        vertical-align: middle;\n",
       "    }\n",
       "\n",
       "    .dataframe tbody tr th {\n",
       "        vertical-align: top;\n",
       "    }\n",
       "\n",
       "    .dataframe thead th {\n",
       "        text-align: right;\n",
       "    }\n",
       "</style>\n",
       "<table border=\"1\" class=\"dataframe\">\n",
       "  <thead>\n",
       "    <tr style=\"text-align: right;\">\n",
       "      <th></th>\n",
       "      <th>X</th>\n",
       "      <th>Y</th>\n",
       "      <th>X(k-1)</th>\n",
       "      <th>X(k-2)</th>\n",
       "      <th>X(k-3)</th>\n",
       "      <th>X(k-4)</th>\n",
       "      <th>Y(k-1)</th>\n",
       "      <th>Y(k-2)</th>\n",
       "      <th>Y(k-3)</th>\n",
       "      <th>Y(k-4)</th>\n",
       "    </tr>\n",
       "  </thead>\n",
       "  <tbody>\n",
       "    <tr>\n",
       "      <th>0</th>\n",
       "      <td>9.8915</td>\n",
       "      <td>6.0095</td>\n",
       "      <td>NaN</td>\n",
       "      <td>NaN</td>\n",
       "      <td>NaN</td>\n",
       "      <td>NaN</td>\n",
       "      <td>NaN</td>\n",
       "      <td>NaN</td>\n",
       "      <td>NaN</td>\n",
       "      <td>NaN</td>\n",
       "    </tr>\n",
       "    <tr>\n",
       "      <th>1</th>\n",
       "      <td>10.4510</td>\n",
       "      <td>5.5741</td>\n",
       "      <td>9.8915</td>\n",
       "      <td>NaN</td>\n",
       "      <td>NaN</td>\n",
       "      <td>NaN</td>\n",
       "      <td>6.0095</td>\n",
       "      <td>NaN</td>\n",
       "      <td>NaN</td>\n",
       "      <td>NaN</td>\n",
       "    </tr>\n",
       "    <tr>\n",
       "      <th>2</th>\n",
       "      <td>10.0460</td>\n",
       "      <td>6.1149</td>\n",
       "      <td>10.4510</td>\n",
       "      <td>9.8915</td>\n",
       "      <td>NaN</td>\n",
       "      <td>NaN</td>\n",
       "      <td>5.5741</td>\n",
       "      <td>6.0095</td>\n",
       "      <td>NaN</td>\n",
       "      <td>NaN</td>\n",
       "    </tr>\n",
       "    <tr>\n",
       "      <th>3</th>\n",
       "      <td>10.9780</td>\n",
       "      <td>6.0194</td>\n",
       "      <td>10.0460</td>\n",
       "      <td>10.4510</td>\n",
       "      <td>9.8915</td>\n",
       "      <td>NaN</td>\n",
       "      <td>6.1149</td>\n",
       "      <td>5.5741</td>\n",
       "      <td>6.0095</td>\n",
       "      <td>NaN</td>\n",
       "    </tr>\n",
       "    <tr>\n",
       "      <th>4</th>\n",
       "      <td>10.6910</td>\n",
       "      <td>6.0317</td>\n",
       "      <td>10.9780</td>\n",
       "      <td>10.0460</td>\n",
       "      <td>10.4510</td>\n",
       "      <td>9.8915</td>\n",
       "      <td>6.0194</td>\n",
       "      <td>6.1149</td>\n",
       "      <td>5.5741</td>\n",
       "      <td>6.0095</td>\n",
       "    </tr>\n",
       "    <tr>\n",
       "      <th>5</th>\n",
       "      <td>10.8250</td>\n",
       "      <td>6.1201</td>\n",
       "      <td>10.6910</td>\n",
       "      <td>10.9780</td>\n",
       "      <td>10.0460</td>\n",
       "      <td>10.4510</td>\n",
       "      <td>6.0317</td>\n",
       "      <td>6.0194</td>\n",
       "      <td>6.1149</td>\n",
       "      <td>5.5741</td>\n",
       "    </tr>\n",
       "    <tr>\n",
       "      <th>6</th>\n",
       "      <td>10.9660</td>\n",
       "      <td>5.9217</td>\n",
       "      <td>10.8250</td>\n",
       "      <td>10.6910</td>\n",
       "      <td>10.9780</td>\n",
       "      <td>10.0460</td>\n",
       "      <td>6.1201</td>\n",
       "      <td>6.0317</td>\n",
       "      <td>6.0194</td>\n",
       "      <td>6.1149</td>\n",
       "    </tr>\n",
       "    <tr>\n",
       "      <th>7</th>\n",
       "      <td>10.9000</td>\n",
       "      <td>6.0420</td>\n",
       "      <td>10.9660</td>\n",
       "      <td>10.8250</td>\n",
       "      <td>10.6910</td>\n",
       "      <td>10.9780</td>\n",
       "      <td>5.9217</td>\n",
       "      <td>6.1201</td>\n",
       "      <td>6.0317</td>\n",
       "      <td>6.0194</td>\n",
       "    </tr>\n",
       "    <tr>\n",
       "      <th>8</th>\n",
       "      <td>10.4290</td>\n",
       "      <td>6.2682</td>\n",
       "      <td>10.9000</td>\n",
       "      <td>10.9660</td>\n",
       "      <td>10.8250</td>\n",
       "      <td>10.6910</td>\n",
       "      <td>6.0420</td>\n",
       "      <td>5.9217</td>\n",
       "      <td>6.1201</td>\n",
       "      <td>6.0317</td>\n",
       "    </tr>\n",
       "    <tr>\n",
       "      <th>9</th>\n",
       "      <td>10.0950</td>\n",
       "      <td>5.9239</td>\n",
       "      <td>10.4290</td>\n",
       "      <td>10.9000</td>\n",
       "      <td>10.9660</td>\n",
       "      <td>10.8250</td>\n",
       "      <td>6.2682</td>\n",
       "      <td>6.0420</td>\n",
       "      <td>5.9217</td>\n",
       "      <td>6.1201</td>\n",
       "    </tr>\n",
       "  </tbody>\n",
       "</table>\n",
       "</div>"
      ],
      "text/plain": [
       "         X       Y   X(k-1)   X(k-2)   X(k-3)   X(k-4)  Y(k-1)  Y(k-2)  \\\n",
       "0   9.8915  6.0095      NaN      NaN      NaN      NaN     NaN     NaN   \n",
       "1  10.4510  5.5741   9.8915      NaN      NaN      NaN  6.0095     NaN   \n",
       "2  10.0460  6.1149  10.4510   9.8915      NaN      NaN  5.5741  6.0095   \n",
       "3  10.9780  6.0194  10.0460  10.4510   9.8915      NaN  6.1149  5.5741   \n",
       "4  10.6910  6.0317  10.9780  10.0460  10.4510   9.8915  6.0194  6.1149   \n",
       "5  10.8250  6.1201  10.6910  10.9780  10.0460  10.4510  6.0317  6.0194   \n",
       "6  10.9660  5.9217  10.8250  10.6910  10.9780  10.0460  6.1201  6.0317   \n",
       "7  10.9000  6.0420  10.9660  10.8250  10.6910  10.9780  5.9217  6.1201   \n",
       "8  10.4290  6.2682  10.9000  10.9660  10.8250  10.6910  6.0420  5.9217   \n",
       "9  10.0950  5.9239  10.4290  10.9000  10.9660  10.8250  6.2682  6.0420   \n",
       "\n",
       "   Y(k-3)  Y(k-4)  \n",
       "0     NaN     NaN  \n",
       "1     NaN     NaN  \n",
       "2     NaN     NaN  \n",
       "3  6.0095     NaN  \n",
       "4  5.5741  6.0095  \n",
       "5  6.1149  5.5741  \n",
       "6  6.0194  6.1149  \n",
       "7  6.0317  6.0194  \n",
       "8  6.1201  6.0317  \n",
       "9  5.9217  6.1201  "
      ]
     },
     "execution_count": 5,
     "metadata": {},
     "output_type": "execute_result"
    }
   ],
   "source": [
    "#printing first 10 values\n",
    "df.head(10)"
   ]
  },
  {
   "cell_type": "code",
   "execution_count": 6,
   "id": "64d3370a",
   "metadata": {},
   "outputs": [],
   "source": [
    "#changing all the nan value to 0\n",
    "df = df.fillna(0)"
   ]
  },
  {
   "cell_type": "code",
   "execution_count": 7,
   "id": "0341df19",
   "metadata": {},
   "outputs": [
    {
     "data": {
      "text/html": [
       "<div>\n",
       "<style scoped>\n",
       "    .dataframe tbody tr th:only-of-type {\n",
       "        vertical-align: middle;\n",
       "    }\n",
       "\n",
       "    .dataframe tbody tr th {\n",
       "        vertical-align: top;\n",
       "    }\n",
       "\n",
       "    .dataframe thead th {\n",
       "        text-align: right;\n",
       "    }\n",
       "</style>\n",
       "<table border=\"1\" class=\"dataframe\">\n",
       "  <thead>\n",
       "    <tr style=\"text-align: right;\">\n",
       "      <th></th>\n",
       "      <th>X</th>\n",
       "      <th>Y</th>\n",
       "      <th>X(k-1)</th>\n",
       "      <th>X(k-2)</th>\n",
       "      <th>X(k-3)</th>\n",
       "      <th>X(k-4)</th>\n",
       "      <th>Y(k-1)</th>\n",
       "      <th>Y(k-2)</th>\n",
       "      <th>Y(k-3)</th>\n",
       "      <th>Y(k-4)</th>\n",
       "    </tr>\n",
       "  </thead>\n",
       "  <tbody>\n",
       "    <tr>\n",
       "      <th>0</th>\n",
       "      <td>9.8915</td>\n",
       "      <td>6.0095</td>\n",
       "      <td>0.0000</td>\n",
       "      <td>0.0000</td>\n",
       "      <td>0.0000</td>\n",
       "      <td>0.0000</td>\n",
       "      <td>0.0000</td>\n",
       "      <td>0.0000</td>\n",
       "      <td>0.0000</td>\n",
       "      <td>0.0000</td>\n",
       "    </tr>\n",
       "    <tr>\n",
       "      <th>1</th>\n",
       "      <td>10.4510</td>\n",
       "      <td>5.5741</td>\n",
       "      <td>9.8915</td>\n",
       "      <td>0.0000</td>\n",
       "      <td>0.0000</td>\n",
       "      <td>0.0000</td>\n",
       "      <td>6.0095</td>\n",
       "      <td>0.0000</td>\n",
       "      <td>0.0000</td>\n",
       "      <td>0.0000</td>\n",
       "    </tr>\n",
       "    <tr>\n",
       "      <th>2</th>\n",
       "      <td>10.0460</td>\n",
       "      <td>6.1149</td>\n",
       "      <td>10.4510</td>\n",
       "      <td>9.8915</td>\n",
       "      <td>0.0000</td>\n",
       "      <td>0.0000</td>\n",
       "      <td>5.5741</td>\n",
       "      <td>6.0095</td>\n",
       "      <td>0.0000</td>\n",
       "      <td>0.0000</td>\n",
       "    </tr>\n",
       "    <tr>\n",
       "      <th>3</th>\n",
       "      <td>10.9780</td>\n",
       "      <td>6.0194</td>\n",
       "      <td>10.0460</td>\n",
       "      <td>10.4510</td>\n",
       "      <td>9.8915</td>\n",
       "      <td>0.0000</td>\n",
       "      <td>6.1149</td>\n",
       "      <td>5.5741</td>\n",
       "      <td>6.0095</td>\n",
       "      <td>0.0000</td>\n",
       "    </tr>\n",
       "    <tr>\n",
       "      <th>4</th>\n",
       "      <td>10.6910</td>\n",
       "      <td>6.0317</td>\n",
       "      <td>10.9780</td>\n",
       "      <td>10.0460</td>\n",
       "      <td>10.4510</td>\n",
       "      <td>9.8915</td>\n",
       "      <td>6.0194</td>\n",
       "      <td>6.1149</td>\n",
       "      <td>5.5741</td>\n",
       "      <td>6.0095</td>\n",
       "    </tr>\n",
       "  </tbody>\n",
       "</table>\n",
       "</div>"
      ],
      "text/plain": [
       "         X       Y   X(k-1)   X(k-2)   X(k-3)  X(k-4)  Y(k-1)  Y(k-2)  Y(k-3)  \\\n",
       "0   9.8915  6.0095   0.0000   0.0000   0.0000  0.0000  0.0000  0.0000  0.0000   \n",
       "1  10.4510  5.5741   9.8915   0.0000   0.0000  0.0000  6.0095  0.0000  0.0000   \n",
       "2  10.0460  6.1149  10.4510   9.8915   0.0000  0.0000  5.5741  6.0095  0.0000   \n",
       "3  10.9780  6.0194  10.0460  10.4510   9.8915  0.0000  6.1149  5.5741  6.0095   \n",
       "4  10.6910  6.0317  10.9780  10.0460  10.4510  9.8915  6.0194  6.1149  5.5741   \n",
       "\n",
       "   Y(k-4)  \n",
       "0  0.0000  \n",
       "1  0.0000  \n",
       "2  0.0000  \n",
       "3  0.0000  \n",
       "4  6.0095  "
      ]
     },
     "execution_count": 7,
     "metadata": {},
     "output_type": "execute_result"
    }
   ],
   "source": [
    "#checking if the values are filled or not\n",
    "df.head()"
   ]
  },
  {
   "cell_type": "code",
   "execution_count": 8,
   "id": "fa531d46",
   "metadata": {},
   "outputs": [],
   "source": [
    "#dividing data into train and test\n",
    "df_train=df[:1500]\n",
    "df_test=df[1500:2000]"
   ]
  },
  {
   "cell_type": "code",
   "execution_count": 9,
   "id": "2dc71e27",
   "metadata": {},
   "outputs": [
    {
     "name": "stdout",
     "output_type": "stream",
     "text": [
      "<class 'pandas.core.frame.DataFrame'>\n",
      "RangeIndex: 2000 entries, 0 to 1999\n",
      "Data columns (total 10 columns):\n",
      " #   Column  Non-Null Count  Dtype  \n",
      "---  ------  --------------  -----  \n",
      " 0   X       2000 non-null   float64\n",
      " 1   Y       2000 non-null   float64\n",
      " 2   X(k-1)  2000 non-null   float64\n",
      " 3   X(k-2)  2000 non-null   float64\n",
      " 4   X(k-3)  2000 non-null   float64\n",
      " 5   X(k-4)  2000 non-null   float64\n",
      " 6   Y(k-1)  2000 non-null   float64\n",
      " 7   Y(k-2)  2000 non-null   float64\n",
      " 8   Y(k-3)  2000 non-null   float64\n",
      " 9   Y(k-4)  2000 non-null   float64\n",
      "dtypes: float64(10)\n",
      "memory usage: 156.4 KB\n"
     ]
    }
   ],
   "source": [
    "#check if all the data is in float datatype\n",
    "df.info()"
   ]
  },
  {
   "cell_type": "code",
   "execution_count": 10,
   "id": "ef6ad6e9",
   "metadata": {},
   "outputs": [
    {
     "data": {
      "text/html": [
       "<div>\n",
       "<style scoped>\n",
       "    .dataframe tbody tr th:only-of-type {\n",
       "        vertical-align: middle;\n",
       "    }\n",
       "\n",
       "    .dataframe tbody tr th {\n",
       "        vertical-align: top;\n",
       "    }\n",
       "\n",
       "    .dataframe thead th {\n",
       "        text-align: right;\n",
       "    }\n",
       "</style>\n",
       "<table border=\"1\" class=\"dataframe\">\n",
       "  <thead>\n",
       "    <tr style=\"text-align: right;\">\n",
       "      <th></th>\n",
       "      <th>X</th>\n",
       "    </tr>\n",
       "  </thead>\n",
       "  <tbody>\n",
       "    <tr>\n",
       "      <th>0</th>\n",
       "      <td>9.8915</td>\n",
       "    </tr>\n",
       "    <tr>\n",
       "      <th>1</th>\n",
       "      <td>10.4510</td>\n",
       "    </tr>\n",
       "    <tr>\n",
       "      <th>2</th>\n",
       "      <td>10.0460</td>\n",
       "    </tr>\n",
       "    <tr>\n",
       "      <th>3</th>\n",
       "      <td>10.9780</td>\n",
       "    </tr>\n",
       "    <tr>\n",
       "      <th>4</th>\n",
       "      <td>10.6910</td>\n",
       "    </tr>\n",
       "    <tr>\n",
       "      <th>...</th>\n",
       "      <td>...</td>\n",
       "    </tr>\n",
       "    <tr>\n",
       "      <th>1495</th>\n",
       "      <td>9.8036</td>\n",
       "    </tr>\n",
       "    <tr>\n",
       "      <th>1496</th>\n",
       "      <td>9.9767</td>\n",
       "    </tr>\n",
       "    <tr>\n",
       "      <th>1497</th>\n",
       "      <td>9.6262</td>\n",
       "    </tr>\n",
       "    <tr>\n",
       "      <th>1498</th>\n",
       "      <td>9.6386</td>\n",
       "    </tr>\n",
       "    <tr>\n",
       "      <th>1499</th>\n",
       "      <td>10.1690</td>\n",
       "    </tr>\n",
       "  </tbody>\n",
       "</table>\n",
       "<p>1500 rows × 1 columns</p>\n",
       "</div>"
      ],
      "text/plain": [
       "            X\n",
       "0      9.8915\n",
       "1     10.4510\n",
       "2     10.0460\n",
       "3     10.9780\n",
       "4     10.6910\n",
       "...       ...\n",
       "1495   9.8036\n",
       "1496   9.9767\n",
       "1497   9.6262\n",
       "1498   9.6386\n",
       "1499  10.1690\n",
       "\n",
       "[1500 rows x 1 columns]"
      ]
     },
     "execution_count": 10,
     "metadata": {},
     "output_type": "execute_result"
    }
   ],
   "source": [
    "#X output for 1st question\n",
    "Y=df_train[['X']]\n",
    "Y"
   ]
  },
  {
   "cell_type": "code",
   "execution_count": 11,
   "id": "673e6e97",
   "metadata": {},
   "outputs": [
    {
     "data": {
      "text/html": [
       "<div>\n",
       "<style scoped>\n",
       "    .dataframe tbody tr th:only-of-type {\n",
       "        vertical-align: middle;\n",
       "    }\n",
       "\n",
       "    .dataframe tbody tr th {\n",
       "        vertical-align: top;\n",
       "    }\n",
       "\n",
       "    .dataframe thead th {\n",
       "        text-align: right;\n",
       "    }\n",
       "</style>\n",
       "<table border=\"1\" class=\"dataframe\">\n",
       "  <thead>\n",
       "    <tr style=\"text-align: right;\">\n",
       "      <th></th>\n",
       "      <th>X(k-1)</th>\n",
       "      <th>X(k-2)</th>\n",
       "      <th>X(k-3)</th>\n",
       "      <th>X(k-4)</th>\n",
       "    </tr>\n",
       "  </thead>\n",
       "  <tbody>\n",
       "    <tr>\n",
       "      <th>0</th>\n",
       "      <td>0.0000</td>\n",
       "      <td>0.0000</td>\n",
       "      <td>0.0000</td>\n",
       "      <td>0.0000</td>\n",
       "    </tr>\n",
       "    <tr>\n",
       "      <th>1</th>\n",
       "      <td>9.8915</td>\n",
       "      <td>0.0000</td>\n",
       "      <td>0.0000</td>\n",
       "      <td>0.0000</td>\n",
       "    </tr>\n",
       "    <tr>\n",
       "      <th>2</th>\n",
       "      <td>10.4510</td>\n",
       "      <td>9.8915</td>\n",
       "      <td>0.0000</td>\n",
       "      <td>0.0000</td>\n",
       "    </tr>\n",
       "    <tr>\n",
       "      <th>3</th>\n",
       "      <td>10.0460</td>\n",
       "      <td>10.4510</td>\n",
       "      <td>9.8915</td>\n",
       "      <td>0.0000</td>\n",
       "    </tr>\n",
       "    <tr>\n",
       "      <th>4</th>\n",
       "      <td>10.9780</td>\n",
       "      <td>10.0460</td>\n",
       "      <td>10.4510</td>\n",
       "      <td>9.8915</td>\n",
       "    </tr>\n",
       "  </tbody>\n",
       "</table>\n",
       "</div>"
      ],
      "text/plain": [
       "    X(k-1)   X(k-2)   X(k-3)  X(k-4)\n",
       "0   0.0000   0.0000   0.0000  0.0000\n",
       "1   9.8915   0.0000   0.0000  0.0000\n",
       "2  10.4510   9.8915   0.0000  0.0000\n",
       "3  10.0460  10.4510   9.8915  0.0000\n",
       "4  10.9780  10.0460  10.4510  9.8915"
      ]
     },
     "execution_count": 11,
     "metadata": {},
     "output_type": "execute_result"
    }
   ],
   "source": [
    "# traning past four historical values\n",
    "new_X=df_train[['X(k-1)','X(k-2)','X(k-3)','X(k-4)']]\n",
    "new_X.head()"
   ]
  },
  {
   "cell_type": "code",
   "execution_count": 12,
   "id": "3dacc3f3",
   "metadata": {},
   "outputs": [
    {
     "name": "stdout",
     "output_type": "stream",
     "text": [
      "Sklearn Linear regression output:\n",
      "Intercept: \n",
      " [1.38981954]\n",
      "Coefficients: \n",
      " [[ 0.77524581  0.13401239  0.03140849 -0.07605579]]\n"
     ]
    }
   ],
   "source": [
    "#Question 1\n",
    "#with sklearn\n",
    "regr = linear_model.LinearRegression()\n",
    "regr.fit(new_X, Y)\n",
    "print('Sklearn Linear regression output:')\n",
    "print('Intercept: \\n', regr.intercept_)\n",
    "print('Coefficients: \\n', regr.coef_)"
   ]
  },
  {
   "cell_type": "markdown",
   "id": "48c912c1",
   "metadata": {},
   "source": [
    "$ a_1 = 0.77524581, a_2 = 0.13401239, a_3 = 0.03140849, a_4 = -0.07605579, b = 1.38981954 $ "
   ]
  },
  {
   "cell_type": "code",
   "execution_count": 13,
   "id": "f082a40a",
   "metadata": {},
   "outputs": [
    {
     "name": "stdout",
     "output_type": "stream",
     "text": [
      "Train error 0.1538497174278458\n"
     ]
    }
   ],
   "source": [
    "x_pred_train = regr.predict(new_X)\n",
    "print('Train error',mean_squared_error( Y,x_pred_train))"
   ]
  },
  {
   "cell_type": "markdown",
   "id": "7b3c4116",
   "metadata": {},
   "source": [
    "Since the Train error = 15%, the model is underfitted"
   ]
  },
  {
   "cell_type": "code",
   "execution_count": 14,
   "id": "01341bf8",
   "metadata": {},
   "outputs": [
    {
     "data": {
      "text/html": [
       "<div>\n",
       "<style scoped>\n",
       "    .dataframe tbody tr th:only-of-type {\n",
       "        vertical-align: middle;\n",
       "    }\n",
       "\n",
       "    .dataframe tbody tr th {\n",
       "        vertical-align: top;\n",
       "    }\n",
       "\n",
       "    .dataframe thead th {\n",
       "        text-align: right;\n",
       "    }\n",
       "</style>\n",
       "<table border=\"1\" class=\"dataframe\">\n",
       "  <thead>\n",
       "    <tr style=\"text-align: right;\">\n",
       "      <th></th>\n",
       "      <th>X(k-1)</th>\n",
       "      <th>X(k-2)</th>\n",
       "      <th>X(k-3)</th>\n",
       "      <th>X(k-4)</th>\n",
       "    </tr>\n",
       "  </thead>\n",
       "  <tbody>\n",
       "    <tr>\n",
       "      <th>1500</th>\n",
       "      <td>10.1690</td>\n",
       "      <td>9.6386</td>\n",
       "      <td>9.6262</td>\n",
       "      <td>9.9767</td>\n",
       "    </tr>\n",
       "    <tr>\n",
       "      <th>1501</th>\n",
       "      <td>9.9483</td>\n",
       "      <td>10.1690</td>\n",
       "      <td>9.6386</td>\n",
       "      <td>9.6262</td>\n",
       "    </tr>\n",
       "    <tr>\n",
       "      <th>1502</th>\n",
       "      <td>9.9490</td>\n",
       "      <td>9.9483</td>\n",
       "      <td>10.1690</td>\n",
       "      <td>9.6386</td>\n",
       "    </tr>\n",
       "    <tr>\n",
       "      <th>1503</th>\n",
       "      <td>10.0680</td>\n",
       "      <td>9.9490</td>\n",
       "      <td>9.9483</td>\n",
       "      <td>10.1690</td>\n",
       "    </tr>\n",
       "    <tr>\n",
       "      <th>1504</th>\n",
       "      <td>9.6956</td>\n",
       "      <td>10.0680</td>\n",
       "      <td>9.9490</td>\n",
       "      <td>9.9483</td>\n",
       "    </tr>\n",
       "  </tbody>\n",
       "</table>\n",
       "</div>"
      ],
      "text/plain": [
       "       X(k-1)   X(k-2)   X(k-3)   X(k-4)\n",
       "1500  10.1690   9.6386   9.6262   9.9767\n",
       "1501   9.9483  10.1690   9.6386   9.6262\n",
       "1502   9.9490   9.9483  10.1690   9.6386\n",
       "1503  10.0680   9.9490   9.9483  10.1690\n",
       "1504   9.6956  10.0680   9.9490   9.9483"
      ]
     },
     "execution_count": 14,
     "metadata": {},
     "output_type": "execute_result"
    }
   ],
   "source": [
    "#Question 2 Starts from here\n",
    "#testing past four historical values\n",
    "X_test=df_test[['X(k-1)','X(k-2)','X(k-3)','X(k-4)']]\n",
    "X_test.head()"
   ]
  },
  {
   "cell_type": "code",
   "execution_count": 15,
   "id": "360eee68",
   "metadata": {},
   "outputs": [
    {
     "name": "stdout",
     "output_type": "stream",
     "text": [
      "[[10.10854462]\n",
      " [10.03557506]\n",
      " [10.02225717]\n",
      " [10.06733338]\n",
      " [ 9.81138682]\n",
      " [10.15077224]\n",
      " [10.16877399]\n",
      " [10.57768756]\n",
      " [10.61350405]\n",
      " [10.44626584]]\n"
     ]
    }
   ],
   "source": [
    "#sklearn prediction\n",
    "predictions = regr.predict(X_test) \n",
    "print(predictions[:10])"
   ]
  },
  {
   "cell_type": "code",
   "execution_count": 16,
   "id": "804118e4",
   "metadata": {},
   "outputs": [
    {
     "name": "stdout",
     "output_type": "stream",
     "text": [
      "Evaluvation of YX using sklearn:\n",
      "R squared: 81.25\n",
      "Mean Absolute Error: 0.2733641270933175\n",
      "Mean Square Error: 0.11863856845706473\n",
      "Root Mean Square Error: 0.34443949897923254\n"
     ]
    }
   ],
   "source": [
    "#Question 2 Model Evaluation and disscusing the accuuracy of the model\n",
    "from sklearn import metrics\n",
    "y_test=df['X'][1500:]\n",
    "meanAbErr = metrics.mean_absolute_error(y_test, predictions)\n",
    "meanSqErr = metrics.mean_squared_error(y_test, predictions)\n",
    "rootMeanSqErr = np.sqrt(metrics.mean_squared_error(y_test, predictions))\n",
    "print('Evaluvation of YX using sklearn:')\n",
    "print('R squared: {:.2f}'.format(regr.score(new_X,Y)*100))\n",
    "print('Mean Absolute Error:', meanAbErr)\n",
    "print('Mean Square Error:', meanSqErr)\n",
    "print('Root Mean Square Error:', rootMeanSqErr)"
   ]
  },
  {
   "cell_type": "markdown",
   "id": "c3d8bf70",
   "metadata": {},
   "source": []
  },
  {
   "cell_type": "code",
   "execution_count": 17,
   "id": "00d1d836",
   "metadata": {},
   "outputs": [],
   "source": [
    "#Question 3\n",
    "#for both X and Y\n",
    "#immediate historical values\n",
    "X_k_train=df_train[['X(k-1)','X(k-2)','Y(k-1)','Y(k-2)']]\n",
    "X_k=df_train[['X']]\n",
    "Y_k_train=df_train[['Y(k-1)','Y(k-2)','X(k-1)','X(k-2)']]\n",
    "Y_k=df_train[['Y']]"
   ]
  },
  {
   "cell_type": "code",
   "execution_count": 18,
   "id": "5e1fd116",
   "metadata": {},
   "outputs": [],
   "source": [
    "X_k_test=df_test[['X(k-1)','X(k-2)','Y(k-1)','Y(k-2)']]\n",
    "X_Test=df_test[['X']]\n",
    "Y_k_test=df_test[['Y(k-1)','Y(k-2)','X(k-1)','X(k-2)']]\n",
    "Y_Test=df_test[['Y']]"
   ]
  },
  {
   "cell_type": "code",
   "execution_count": 19,
   "id": "a2e873eb",
   "metadata": {},
   "outputs": [
    {
     "name": "stdout",
     "output_type": "stream",
     "text": [
      "Sklearn Linear regression output of X:\n",
      "Intercept: \n",
      " [1.38981954]\n",
      "Coefficients: \n",
      " [[ 0.77524581  0.13401239  0.03140849 -0.07605579]]\n"
     ]
    }
   ],
   "source": [
    "#Question 3\n",
    "# with sklearn\n",
    "#Find X\n",
    "regr_X = linear_model.LinearRegression()\n",
    "regr_X.fit(X_k_train, X_k)\n",
    "print('Sklearn Linear regression output of X:')\n",
    "print('Intercept: \\n', regr.intercept_)\n",
    "print('Coefficients: \\n', regr.coef_)"
   ]
  },
  {
   "cell_type": "code",
   "execution_count": 20,
   "id": "861219b1",
   "metadata": {},
   "outputs": [
    {
     "name": "stdout",
     "output_type": "stream",
     "text": [
      "Sklearn Linear regression output of Y:\n",
      "Intercept: \n",
      " [2.91583521]\n",
      "Coefficients: \n",
      " [[ 0.44228597  0.10381613 -0.00409023 -0.02737421]]\n"
     ]
    }
   ],
   "source": [
    "#Find Y\n",
    "regr = linear_model.LinearRegression()\n",
    "regr.fit(Y_k_train, Y_k)\n",
    "print('Sklearn Linear regression output of Y:')\n",
    "print('Intercept: \\n', regr.intercept_)\n",
    "print('Coefficients: \\n', regr.coef_)"
   ]
  },
  {
   "cell_type": "code",
   "execution_count": 21,
   "id": "144acd4d",
   "metadata": {},
   "outputs": [
    {
     "name": "stdout",
     "output_type": "stream",
     "text": [
      "[[ 9.98793115]\n",
      " [ 9.93003977]\n",
      " [ 9.95724394]\n",
      " [10.03288501]\n",
      " [ 9.75633361]\n",
      " [10.15280887]\n",
      " [10.18326994]\n",
      " [10.49629042]\n",
      " [10.58747821]\n",
      " [10.44739021]]\n"
     ]
    }
   ],
   "source": [
    "#sklearn prediction of X\n",
    "predict_X = regr_X.predict(X_k_test) \n",
    "print(predict_X[:10])"
   ]
  },
  {
   "cell_type": "code",
   "execution_count": 22,
   "id": "cf813eaf",
   "metadata": {},
   "outputs": [
    {
     "name": "stdout",
     "output_type": "stream",
     "text": [
      "Evaluvation of X:\n",
      "Mean Absolute Error: 0.26756607184147235\n",
      "Mean Square Error: 0.11665862816363735\n",
      "Root Mean Square Error: 0.3415532581657469\n"
     ]
    }
   ],
   "source": [
    "#Model Evaluation for X and Y\n",
    "meanAbErr = metrics.mean_absolute_error(X_Test, predict_X)\n",
    "meanSqErr = metrics.mean_squared_error(X_Test, predict_X)\n",
    "rootMeanSqErr = np.sqrt(metrics.mean_squared_error(X_Test, predict_X))\n",
    "print('Evaluvation of X:')\n",
    "print('Mean Absolute Error:', meanAbErr)\n",
    "print('Mean Square Error:', meanSqErr)\n",
    "print('Root Mean Square Error:', rootMeanSqErr)"
   ]
  },
  {
   "cell_type": "code",
   "execution_count": 23,
   "id": "929f02b5",
   "metadata": {},
   "outputs": [
    {
     "name": "stdout",
     "output_type": "stream",
     "text": [
      "[[6.02479847]\n",
      " [5.84595043]\n",
      " [5.77676296]\n",
      " [5.90449796]\n",
      " [5.76845441]\n",
      " [5.65330568]\n",
      " [5.77097838]\n",
      " [5.79358161]\n",
      " [5.6807355 ]\n",
      " [5.59975747]]\n"
     ]
    }
   ],
   "source": [
    "#sklearn prediction of Y\n",
    "predict_Y = regr.predict(Y_k_test) \n",
    "print(predict_Y[:10])"
   ]
  },
  {
   "cell_type": "code",
   "execution_count": 24,
   "id": "7c4f9f0e",
   "metadata": {},
   "outputs": [
    {
     "name": "stdout",
     "output_type": "stream",
     "text": [
      "Evaluvation of Y:\n",
      "Mean Absolute Error: 0.25890676132481444\n",
      "Mean Square Error: 0.10471547027402772\n",
      "Root Mean Square Error: 0.32359769819024936\n"
     ]
    }
   ],
   "source": [
    "#Evaluate Y\n",
    "meanAbErr = metrics.mean_absolute_error(Y_Test, predict_Y)\n",
    "meanSqErr = metrics.mean_squared_error(Y_Test, predict_Y)\n",
    "rootMeanSqErr = np.sqrt(metrics.mean_squared_error(Y_Test, predict_Y))\n",
    "print('Evaluvation of Y:')\n",
    "print('Mean Absolute Error:', meanAbErr)\n",
    "print('Mean Square Error:', meanSqErr)\n",
    "print('Root Mean Square Error:', rootMeanSqErr)"
   ]
  },
  {
   "cell_type": "code",
   "execution_count": null,
   "id": "85ec7a31",
   "metadata": {},
   "outputs": [],
   "source": []
  }
 ],
 "metadata": {
  "kernelspec": {
   "display_name": "Python 3 (ipykernel)",
   "language": "python",
   "name": "python3"
  },
  "language_info": {
   "codemirror_mode": {
    "name": "ipython",
    "version": 3
   },
   "file_extension": ".py",
   "mimetype": "text/x-python",
   "name": "python",
   "nbconvert_exporter": "python",
   "pygments_lexer": "ipython3",
   "version": "3.9.7"
  }
 },
 "nbformat": 4,
 "nbformat_minor": 5
}
